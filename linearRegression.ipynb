{
  "nbformat": 4,
  "nbformat_minor": 0,
  "metadata": {
    "colab": {
      "name": "linearRegression.ipynb",
      "provenance": [],
      "collapsed_sections": []
    },
    "kernelspec": {
      "name": "python3",
      "display_name": "Python 3"
    },
    "language_info": {
      "name": "python"
    }
  },
  "cells": [
    {
      "cell_type": "code",
      "metadata": {
        "id": "o-xVrsIX_Nys"
      },
      "source": [
        "import numpy as np\n",
        "import pandas as pd\n",
        "import matplotlib.pyplot as plt\n",
        "import sklearn"
      ],
      "execution_count": 1,
      "outputs": []
    },
    {
      "cell_type": "code",
      "metadata": {
        "id": "U1P59iySEsd7"
      },
      "source": [
        "dataset = pd.read_excel(\"data-penjualan.xlsx\")\n",
        "x = dataset.iloc[:,:-1].values\n",
        "y = dataset.iloc[:,1].values\n",
        "dataset.keys()\n",
        "dataset.shape\n",
        "mydata = pd.DataFrame(dataset)\n",
        "mydata.head()"
      ],
      "execution_count": null,
      "outputs": []
    },
    {
      "cell_type": "code",
      "metadata": {
        "id": "mFYltXmYF6fF"
      },
      "source": [
        "from sklearn.model_selection import train_test_split\n",
        "x_train, x_test, y_train, y_test = train_test_split(x, y, test_size=2, random_state=0 )"
      ],
      "execution_count": 4,
      "outputs": []
    },
    {
      "cell_type": "code",
      "metadata": {
        "id": "PnNREooJU_41"
      },
      "source": [
        "from sklearn.linear_model import LinearRegression\n",
        "regressor = LinearRegression()\n",
        "regressor.fit(x_train,y_train)\n",
        "Y_pred = regressor.predict(x_test)\n",
        "plt.scatter(mydata.BiayaProduksi, mydata.NilaiPenjualan)\n",
        "plt.xlabel(\"Biaya Produksi\")\n",
        "plt.ylabel(\"Nilai Penjualan\")\n",
        "plt.title(\"Grafik Biaya Produksi vs Nilai Penjualan\")\n",
        "plt.show()"
      ],
      "execution_count": null,
      "outputs": []
    },
    {
      "cell_type": "code",
      "metadata": {
        "id": "BoNWdON6WNhz"
      },
      "source": [
        "plt.figure(figsize=(10,8))\n",
        "plt.scatter(x_train,y_train, color = \"blue\")\n",
        "plt.plot(x_train, regressor.predict(x_train),color=\"red\")\n",
        "plt.xlabel(\"Biaya Produksi\")\n",
        "plt.ylabel(\"Nilai Penjualan\")\n",
        "plt.title(\"Grafik Biaya Produksi vs Nilai Penjualan (Training Set)\")\n",
        "plt.show()"
      ],
      "execution_count": null,
      "outputs": []
    },
    {
      "cell_type": "code",
      "metadata": {
        "id": "rKvG-5TaW0wp"
      },
      "source": [
        "plt.figure(figsize=(10,8))\n",
        "plt.scatter(x_test,y_test, color = \"blue\")\n",
        "plt.plot(x_test, regressor.predict(x_test),color=\"red\")\n",
        "plt.xlabel(\"Biaya Produksi\")\n",
        "plt.ylabel(\"Nilai Penjualan\")\n",
        "plt.title(\"Grafik Biaya Produksi vs Nilai Penjualan (Test Set)\")\n",
        "plt.show()"
      ],
      "execution_count": null,
      "outputs": []
    }
  ]
}